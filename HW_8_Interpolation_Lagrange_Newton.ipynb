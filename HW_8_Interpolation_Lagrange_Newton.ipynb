{
 "cells": [
  {
   "cell_type": "markdown",
   "id": "d2f09bd4",
   "metadata": {},
   "source": [
    "# Интерполяция: многочлены Лагранжа и Ньютона"
   ]
  },
  {
   "cell_type": "markdown",
   "id": "c201143e",
   "metadata": {},
   "source": [
    "## Задание 1\n",
    "\n",
    "Построить многочлен Лагранжа глобальным способом и вычислить значение в точке x, не являющейся узлом, но находящейся внутри сетки"
   ]
  },
  {
   "cell_type": "code",
   "execution_count": 2,
   "id": "819993e9",
   "metadata": {},
   "outputs": [
    {
     "name": "stdout",
     "output_type": "stream",
     "text": [
      "Многочлен Лагранжа:\n",
      "-3*x**3/2 + 16*x**2 - 107*x/2 + 62\n",
      "Значение в точке x = 2.5: 4.81250000000000\n"
     ]
    }
   ],
   "source": [
    "from sympy import symbols, expand\n",
    "\n",
    "def lagrange_polynomial(x_values, y_values):\n",
    "    x = symbols('x')\n",
    "    n = len(x_values)\n",
    "    polynomial = 0\n",
    "\n",
    "    for i in range(n):\n",
    "        term = y_values[i]\n",
    "        for j in range(n):\n",
    "            if j != i:\n",
    "                term *= (x - x_values[j]) / (x_values[i] - x_values[j])\n",
    "        polynomial += term\n",
    "\n",
    "    return expand(polynomial)\n",
    "\n",
    "x_values = [2, 3, 4, 5]\n",
    "y_values = [7, 5, 8, 7]\n",
    "x = 2.5\n",
    "\n",
    "polynomial = lagrange_polynomial(x_values, y_values)\n",
    "print(\"Многочлен Лагранжа:\")\n",
    "print(polynomial)\n",
    "print(f\"Значение в точке x = {x}: {polynomial.subs('x', x)}\")\n"
   ]
  },
  {
   "cell_type": "markdown",
   "id": "e8fd4235",
   "metadata": {},
   "source": [
    "---"
   ]
  },
  {
   "cell_type": "markdown",
   "id": "d945c662",
   "metadata": {},
   "source": [
    "## Задание 2\n",
    "\n",
    "Кусочная интерполяция методом Лагранжа"
   ]
  },
  {
   "cell_type": "code",
   "execution_count": 3,
   "id": "9a56da48",
   "metadata": {},
   "outputs": [
    {
     "name": "stdout",
     "output_type": "stream",
     "text": [
      "\n",
      "Интерполяция Лагранжа в x = 2.5 с окном k = 2: 6.0\n"
     ]
    }
   ],
   "source": [
    "def piecewise_lagrange_interpolation(x_values, y_values, x, window_size=2):\n",
    "    n = len(x_values)\n",
    "    start_idx = 0\n",
    "    for i in range(n - window_size + 1):\n",
    "        if x_values[i] <= x <= x_values[i + window_size - 1]:\n",
    "            start_idx = i\n",
    "            break\n",
    "    else:\n",
    "        start_idx = max(0, n - window_size)\n",
    "\n",
    "    window_x = x_values[start_idx:start_idx + window_size]\n",
    "    window_y = y_values[start_idx:start_idx + window_size]\n",
    "\n",
    "    return lagrange_interpolation(window_x, window_y, x)\n",
    "\n",
    "def lagrange_interpolation(x_values, y_values, x):\n",
    "    n = len(x_values)\n",
    "    result = 0.0\n",
    "\n",
    "    for i in range(n):\n",
    "        term = y_values[i]\n",
    "        for j in range(n):\n",
    "            if j != i:\n",
    "                term *= (x - x_values[j]) / (x_values[i] - x_values[j])\n",
    "        result += term\n",
    "\n",
    "    return result\n",
    "\n",
    "k = 2\n",
    "res = piecewise_lagrange_interpolation(x_values, y_values, x, window_size=k)\n",
    "print(f\"\\nИнтерполяция Лагранжа в x = {x} с окном k = {k}: {res}\")\n"
   ]
  },
  {
   "cell_type": "markdown",
   "id": "883d533f",
   "metadata": {},
   "source": [
    "---"
   ]
  },
  {
   "cell_type": "markdown",
   "id": "52bbfd65",
   "metadata": {},
   "source": [
    "## Задание 3\n",
    "Глобальная интерполяция методом Ньютона (на равномерной сетке)"
   ]
  },
  {
   "cell_type": "code",
   "execution_count": 4,
   "id": "9ab44ad8",
   "metadata": {},
   "outputs": [
    {
     "name": "stdout",
     "output_type": "stream",
     "text": [
      "\n",
      "Многочлен Ньютона:\n",
      "-1.5*x**3 + 16.0*x**2 - 53.5*x + 62.0\n",
      "Значение в точке x = 2.5: 4.81250000000000\n",
      "\n",
      "Таблица разделённых разностей:\n",
      "[7, -2.0, 2.5, -1.5]\n",
      "[5, 3.0, -2.0, 0]\n",
      "[8, -1.0, 0, 0]\n",
      "[7, 0, 0, 0]\n"
     ]
    }
   ],
   "source": [
    "def newton_polynomial(x_values, y_values):\n",
    "    x = symbols('x')\n",
    "    n = len(x_values)\n",
    "\n",
    "    div_diff = [[0] * n for _ in range(n)]\n",
    "    for i in range(n):\n",
    "        div_diff[i][0] = y_values[i]\n",
    "\n",
    "    for j in range(1, n):\n",
    "        for i in range(n - j):\n",
    "            div_diff[i][j] = (div_diff[i + 1][j - 1] - div_diff[i][j - 1]) / (x_values[i + j] - x_values[i])\n",
    "\n",
    "    polynomial = div_diff[0][0]\n",
    "    for j in range(1, n):\n",
    "        term = div_diff[0][j]\n",
    "        for k in range(j):\n",
    "            term *= (x - x_values[k])\n",
    "        polynomial += term\n",
    "\n",
    "    return expand(polynomial)\n",
    "\n",
    "polynomial = newton_polynomial(x_values, y_values)\n",
    "print(\"\\nМногочлен Ньютона:\")\n",
    "print(polynomial)\n",
    "print(f\"Значение в точке x = {x}: {polynomial.subs('x', x)}\")\n",
    "\n",
    "# Таблица разделённых разностей\n",
    "print(\"\\nТаблица разделённых разностей:\")\n",
    "n = len(x_values)\n",
    "div_diff = [[0] * n for _ in range(n)]\n",
    "for i in range(n):\n",
    "    div_diff[i][0] = y_values[i]\n",
    "\n",
    "for j in range(1, n):\n",
    "    for i in range(n - j):\n",
    "        div_diff[i][j] = (div_diff[i + 1][j - 1] - div_diff[i][j - 1]) / (x_values[i + j] - x_values[i])\n",
    "\n",
    "for row in div_diff:\n",
    "    print(row)\n"
   ]
  },
  {
   "cell_type": "markdown",
   "id": "28e0f9f8",
   "metadata": {},
   "source": [
    "---"
   ]
  },
  {
   "cell_type": "markdown",
   "id": "eba748c8",
   "metadata": {},
   "source": [
    "## Задание 4\n",
    "Кусочная интерполяция методом Ньютона (на равномерной сетке)"
   ]
  },
  {
   "cell_type": "code",
   "execution_count": 5,
   "id": "a8ddbf17",
   "metadata": {},
   "outputs": [
    {
     "name": "stdout",
     "output_type": "stream",
     "text": [
      "\n",
      "Интерполяция Ньютона в x = 2.5 с окном k = 3: 5.375\n"
     ]
    }
   ],
   "source": [
    "def piecewise_newton_interpolation(x_values, y_values, x, window_size=2):\n",
    "    n = len(x_values)\n",
    "    start_idx = 0\n",
    "    for i in range(n - window_size + 1):\n",
    "        if x_values[i] <= x <= x_values[i + window_size - 1]:\n",
    "            start_idx = i\n",
    "            break\n",
    "    else:\n",
    "        start_idx = max(0, n - window_size)\n",
    "\n",
    "    window_x = x_values[start_idx:start_idx + window_size]\n",
    "    window_y = y_values[start_idx:start_idx + window_size]\n",
    "\n",
    "    return newton_interpolation(window_x, window_y, x)\n",
    "\n",
    "def newton_interpolation(x_values, y_values, x):\n",
    "    n = len(x_values)\n",
    "    div_diff = [[0] * n for _ in range(n)]\n",
    "    for i in range(n):\n",
    "        div_diff[i][0] = y_values[i]\n",
    "\n",
    "    for j in range(1, n):\n",
    "        for i in range(n - j):\n",
    "            div_diff[i][j] = (div_diff[i + 1][j - 1] - div_diff[i][j - 1]) / (x_values[i + j] - x_values[i])\n",
    "\n",
    "    result = div_diff[0][0]\n",
    "    for j in range(1, n):\n",
    "        term = div_diff[0][j]\n",
    "        for k in range(j):\n",
    "            term *= (x - x_values[k])\n",
    "        result += term\n",
    "\n",
    "    return result\n",
    "\n",
    "k = 3\n",
    "res = piecewise_newton_interpolation(x_values, y_values, x, window_size=k)\n",
    "print(f\"\\nИнтерполяция Ньютона в x = {x} с окном k = {k}: {res}\")\n"
   ]
  }
 ],
 "metadata": {
  "kernelspec": {
   "display_name": ".venv",
   "language": "python",
   "name": "python3"
  },
  "language_info": {
   "codemirror_mode": {
    "name": "ipython",
    "version": 3
   },
   "file_extension": ".py",
   "mimetype": "text/x-python",
   "name": "python",
   "nbconvert_exporter": "python",
   "pygments_lexer": "ipython3",
   "version": "3.11.5"
  }
 },
 "nbformat": 4,
 "nbformat_minor": 5
}
