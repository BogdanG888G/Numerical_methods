{
 "cells": [
  {
   "cell_type": "markdown",
   "id": "38961cda-5d12-4aed-a9a9-0eb7b4d47f2f",
   "metadata": {},
   "source": [
    "# Решение СЛАУ с помощью метода Гаусса и LU-разложения"
   ]
  },
  {
   "cell_type": "markdown",
   "id": "bb08e2e6-97f6-4155-9d6c-fda4af9560b4",
   "metadata": {},
   "source": [
    "##  Метод Гаусса — Вариант 1: прямой метод"
   ]
  },
  {
   "cell_type": "code",
   "execution_count": 3,
   "id": "08fef6b3-c7a2-42e9-a5c2-4e03aa940ee0",
   "metadata": {},
   "outputs": [],
   "source": [
    "def gauss_elimination_v1(matrix):\n",
    "    \"\"\"\n",
    "    Решает систему линейных уравнений методом Гаусса\n",
    "    Модифицирует исходную матрицу на месте\n",
    "    Ожидается, что матрица содержит дополнительную строку из нулей для корректной работы\n",
    "    \"\"\"\n",
    "    # Прямой ход\n",
    "    for i in range(0, len(matrix) - 1):\n",
    "        pivot = matrix[i][i]\n",
    "        for col in range(len(matrix[0])):\n",
    "            matrix[i][col] /= pivot\n",
    "        for row in range(i + 1, len(matrix) - 1):\n",
    "            factor = matrix[row][i]\n",
    "            for col in range(len(matrix[0])):\n",
    "                matrix[row][col] -= matrix[i][col] * factor\n",
    "\n",
    "    # Удаляем строку из нулей\n",
    "    matrix.remove([0, 0, 0, 0])\n",
    "\n",
    "    # Обратный ход (нахождение переменных)\n",
    "    x3 = matrix[2][3] / matrix[2][2]\n",
    "    x2 = (matrix[1][3] - matrix[1][2] * x3) / matrix[1][1]\n",
    "    x1 = (matrix[0][3] - matrix[0][2] * x3 - matrix[0][1] * x2) / matrix[0][0]\n",
    "    print(f'x1 = {x1}, x2 = {x2}, x3 = {x3}')\n"
   ]
  },
  {
   "cell_type": "markdown",
   "id": "fc0e60bb-d287-46cd-87b4-349caea87759",
   "metadata": {},
   "source": [
    "## Метод Гаусса — Вариант 2: с копированием в новую матрицу"
   ]
  },
  {
   "cell_type": "code",
   "execution_count": 4,
   "id": "f8f6184f-9c1d-4647-bd15-7648e06eb915",
   "metadata": {},
   "outputs": [],
   "source": [
    "def gauss_elimination_v2(original_matrix):\n",
    "    \"\"\"\n",
    "    Второй способ решения СЛАУ методом Гаусса\n",
    "    Копирует данные в новую матрицу и проводит пошаговое обнуление ниже главной диагонали\n",
    "    \"\"\"\n",
    "    # Создаем пустую матрицу\n",
    "    matrix = [[0, 0, 0, 0] for _ in range(3)]\n",
    "\n",
    "    # Нормализуем первую строку\n",
    "    pivot = original_matrix[0][0]\n",
    "    for col in range(len(original_matrix[0])):\n",
    "        matrix[0][col] = original_matrix[0][col] / pivot\n",
    "\n",
    "    # Обнуляем элементы под главной диагональю\n",
    "    for step in range(1, len(original_matrix)):\n",
    "        for row in range(step, len(original_matrix)):\n",
    "            for col in range(step, len(original_matrix[0])):\n",
    "                if col == 0:\n",
    "                    matrix[row][col] = 0\n",
    "                elif step == 2:\n",
    "                    matrix[row][col] = matrix[row][col] - (matrix[row][step - 1] * matrix[step - 1][col]) / matrix[step - 1][step - 1]\n",
    "                else:\n",
    "                    matrix[row][col] = original_matrix[row][col] - (original_matrix[row][step - 1] * original_matrix[step - 1][col]) / original_matrix[step - 1][step - 1]\n",
    "\n",
    "            # Нормализуем текущую строку\n",
    "            pivot = matrix[row][step]\n",
    "            if step != 2 and row < len(original_matrix) - 1:\n",
    "                for j in range(len(matrix[row])):\n",
    "                    matrix[row][j] /= pivot\n",
    "\n",
    "    # Обратный ход (нахождение переменных)\n",
    "    x3 = matrix[2][3] / matrix[2][2]\n",
    "    x2 = (matrix[1][3] - matrix[1][2] * x3) / matrix[1][1]\n",
    "    x1 = (matrix[0][3] - matrix[0][2] * x3 - matrix[0][1] * x2) / matrix[0][0]\n",
    "    print(f'x1 = {x1}, x2 = {x2}, x3 = {x3}')\n"
   ]
  },
  {
   "cell_type": "markdown",
   "id": "6471c3b3-bd50-4d03-a1b9-dfba36c24ba8",
   "metadata": {},
   "source": [
    "## Пример использования:"
   ]
  },
  {
   "cell_type": "code",
   "execution_count": 5,
   "id": "1da7e691-1b35-4e0e-a084-8807a84c0d89",
   "metadata": {},
   "outputs": [
    {
     "name": "stdout",
     "output_type": "stream",
     "text": [
      "x1 = 2.0, x2 = 1.0, x3 = 1.0000000000000002\n",
      "x1 = 1.0, x2 = 2.0, x3 = 3.0\n"
     ]
    }
   ],
   "source": [
    "# Матрица для первого метода (с дополнительной строкой нулей)\n",
    "matrix1 = [\n",
    "    [5, 0, 1, 11],\n",
    "    [2, 6, -2, 8],\n",
    "    [-3, 2, 10, 6],\n",
    "    [0, 0, 0, 0]\n",
    "]\n",
    "\n",
    "# Матрица для второго метода\n",
    "matrix2 = [\n",
    "    [2, 1, 4, 16],\n",
    "    [3, 2, 1, 10],\n",
    "    [1, 3, 3, 16]\n",
    "]\n",
    "\n",
    "gauss_elimination_v1(matrix1)\n",
    "gauss_elimination_v2(matrix2)\n"
   ]
  },
  {
   "cell_type": "markdown",
   "id": "471dd142-394f-4c96-bb0f-969feea0c40d",
   "metadata": {},
   "source": [
    "#  LU-разложение и решение СЛАУ"
   ]
  },
  {
   "cell_type": "code",
   "execution_count": 6,
   "id": "75721aa3-c694-457b-b843-1409e8a45892",
   "metadata": {},
   "outputs": [],
   "source": [
    "import numpy as np\n",
    "\n",
    "def lu_decompose(matrix):\n",
    "    \"\"\"\n",
    "    Выполняет LU-разложение матрицы\n",
    "    Возвращает две матрицы: нижнюю (L) и верхнюю (U)\n",
    "    \"\"\"\n",
    "    n = len(matrix)\n",
    "    L = np.zeros((n, n))\n",
    "    U = np.zeros((n, n))\n",
    "\n",
    "    for i in range(n):\n",
    "        # Верхняя треугольная матрица\n",
    "        for k in range(i, n):\n",
    "            sum_upper = sum(L[i][j] * U[j][k] for j in range(i))\n",
    "            U[i][k] = matrix[i][k] - sum_upper\n",
    "\n",
    "        # Нижняя треугольная матрица\n",
    "        for k in range(i, n):\n",
    "            if i == k:\n",
    "                L[i][i] = 1\n",
    "            else:\n",
    "                sum_lower = sum(L[k][j] * U[j][i] for j in range(i))\n",
    "                L[k][i] = (matrix[k][i] - sum_lower) / U[i][i]\n",
    "\n",
    "    return L, U\n"
   ]
  },
  {
   "cell_type": "markdown",
   "id": "219c1ef7-f75d-4e4c-8940-c8658aa6b4f8",
   "metadata": {},
   "source": [
    "## Решение уравнения с помощью LU-разложения"
   ]
  },
  {
   "cell_type": "code",
   "execution_count": 7,
   "id": "099a8886-fb88-47ea-ae74-841e008aa7c2",
   "metadata": {},
   "outputs": [],
   "source": [
    "def solve_using_lu(matrix_A, vector_b):\n",
    "    \"\"\"\n",
    "    Решает СЛАУ, используя LU-разложение\n",
    "    matrix_A — коэффициенты,\n",
    "    vector_b — свободные члены\n",
    "    \"\"\"\n",
    "    L, U = lu_decompose(matrix_A)\n",
    "    n = len(matrix_A)\n",
    "\n",
    "    # Прямой ход (Ly = b)\n",
    "    y = np.zeros(n)\n",
    "    for i in range(n):\n",
    "        y[i] = vector_b[i] - sum(L[i][j] * y[j] for j in range(i))\n",
    "\n",
    "    # Обратный ход (Ux = y)\n",
    "    x = np.zeros(n)\n",
    "    for i in range(n - 1, -1, -1):\n",
    "        x[i] = (y[i] - sum(U[i][j] * x[j] for j in range(i + 1, n))) / U[i][i]\n",
    "\n",
    "    return x\n"
   ]
  },
  {
   "cell_type": "markdown",
   "id": "9287c05d-c0e8-49dc-94c8-47d42eb18bb8",
   "metadata": {},
   "source": [
    "## Пример использования LU-метода"
   ]
  },
  {
   "cell_type": "code",
   "execution_count": 8,
   "id": "0734da27-1706-40e8-a6de-82d8558dbd74",
   "metadata": {},
   "outputs": [
    {
     "name": "stdout",
     "output_type": "stream",
     "text": [
      "x0 = 1.0, x1 = 2.0, x2 = 3.0, \n"
     ]
    }
   ],
   "source": [
    "A = np.array([\n",
    "    [2, 1, 4],\n",
    "    [3, 2, 1],\n",
    "    [1, 3, 3]\n",
    "])\n",
    "\n",
    "b = np.array([16, 10, 16])\n",
    "\n",
    "solution = solve_using_lu(A, b)\n",
    "\n",
    "# Вывод результата\n",
    "result_string = \"\"\n",
    "for idx, value in enumerate(solution):\n",
    "    result_string += f\"x{idx} = {value}, \"\n",
    "\n",
    "print(result_string)\n"
   ]
  }
 ],
 "metadata": {
  "kernelspec": {
   "display_name": "Python 3 (ipykernel)",
   "language": "python",
   "name": "python3"
  },
  "language_info": {
   "codemirror_mode": {
    "name": "ipython",
    "version": 3
   },
   "file_extension": ".py",
   "mimetype": "text/x-python",
   "name": "python",
   "nbconvert_exporter": "python",
   "pygments_lexer": "ipython3",
   "version": "3.11.5"
  }
 },
 "nbformat": 4,
 "nbformat_minor": 5
}
