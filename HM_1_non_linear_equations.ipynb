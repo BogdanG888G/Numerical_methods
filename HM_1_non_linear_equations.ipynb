{
 "cells": [
  {
   "cell_type": "markdown",
   "metadata": {},
   "source": [
    "# Численные методы (занятие 1, 2025-02-15)"
   ]
  },
  {
   "cell_type": "markdown",
   "metadata": {},
   "source": [
    "## Решение нелинейных уравнений"
   ]
  },
  {
   "cell_type": "markdown",
   "metadata": {},
   "source": [
    "### Метод половинного деления (бисекция)"
   ]
  },
  {
   "cell_type": "markdown",
   "metadata": {},
   "source": [
    "Метод половинного деления (бисекции) применяется для нахождения корня уравнения, если функция непрерывна и значения на концах имеют разные знаки (теорема о промежуточных значениях)."
   ]
  },
  {
   "cell_type": "markdown",
   "metadata": {},
   "source": [
    "**Алгоритм:**\n",
    "\n",
    "1) Выбираем начальное приближение - $x_0$ и $x_1$ выбираем случайно\n",
    "2) если $f(x_0) * f(x_1) < 0$ (функция меняет знак, значит, есть корень):\n",
    "   1)  $x_m$ = $\\frac{x_0 + x_1}{2}$\n",
    "   2)  если $f(x_m) = 0$, то $x_m$ - наш корень\n",
    "   3)  если $f(x_0) * f(x_m) < 0$, то корень находится в левом отрезке и смещаем правую границу влево, т.е $x_1 = x_m$\n",
    "   4)  иначе $x_0 = x_m$\n",
    "   5)  возвращаем $x_m$\n",
    "3) Повторяем, пока $abs(x_0 - x_1) > \\epsilon$"
   ]
  },
  {
   "cell_type": "code",
   "execution_count": 35,
   "metadata": {},
   "outputs": [
    {
     "name": "stdout",
     "output_type": "stream",
     "text": [
      "1.521379707264714\n"
     ]
    }
   ],
   "source": [
    "def f(x):\n",
    "    return x ** 3 - x - 2\n",
    "\n",
    "def bin_split(x0, x1, e):\n",
    "    if f(x0) * f(x1) < 0:\n",
    "        while abs(x0 - x1) > e:\n",
    "            xm = (x0 + x1) / 2\n",
    "            if f(xm) == 0:\n",
    "                return xm\n",
    "            elif f(x0) * f(xm) < 0:\n",
    "                x1 = xm\n",
    "            elif f(x1) * f(xm) < 0:\n",
    "                x0 = xm\n",
    "        return (x0 + x1) / 2\n",
    "    else:\n",
    "        print(\"No root found in the given interval\")\n",
    "\n",
    "print(bin_split(-100, 100, 0.00000001))\n"
   ]
  },
  {
   "cell_type": "markdown",
   "metadata": {},
   "source": [
    "### Метод Ньютона"
   ]
  },
  {
   "cell_type": "markdown",
   "metadata": {},
   "source": [
    "Метод Ньютона — это быстрый численный метод нахождения корня уравнения $f(x) = 0$. В отличие от метода бисекции, который просто делит отрезок, метод Ньютона использует **производную**, чтобы строить последовательные приближения к корню\n",
    "\n",
    "**Алгоритм**:\n",
    "\n",
    "1) Выбираем начальное приближение $x_0$ и вычисляем его при помощи функции $f(x_0)$\n",
    "2) Вычисляем производную $f'(x_0)$ функции $f(x)$\n",
    "\n",
    "3) Повторяем до достижения нужной точности:\n",
    "   1) $x_{n+1} = x_n - \\frac{f(x_n)}{f'(x_n)}$\n",
    "4) Повторяем, пока разница между $x_n$ и $x_{n+1}$ не станет достаточно малой"
   ]
  },
  {
   "cell_type": "code",
   "execution_count": 39,
   "metadata": {},
   "outputs": [
    {
     "name": "stdout",
     "output_type": "stream",
     "text": [
      "1.5213797068045676\n"
     ]
    }
   ],
   "source": [
    "def df(x):\n",
    "    return 3 * x ** 2 - 1\n",
    "\n",
    "def newton(x0, x1, e):\n",
    "    while True:\n",
    "        f0 = f(x0)\n",
    "        df_f0 = df(x0)\n",
    "        x1 = x0 - (f0 / df_f0)\n",
    "        if abs(x1 - x0) < e:\n",
    "            return x1\n",
    "            break\n",
    "        x0 = x1\n",
    "\n",
    "print(newton(-10, 10, 0.00000001))\n"
   ]
  },
  {
   "cell_type": "markdown",
   "metadata": {},
   "source": [
    "## Метод Симплекс-Ньютона (Расширенный метод Ньютона)"
   ]
  },
  {
   "cell_type": "markdown",
   "metadata": {},
   "source": [
    "Метод Симплекс-Ньютона — это обобщение метода Ньютона для поиска минимума функции в многомерном пространстве (оптимизация). Он используется в задачах многомерного нелинейного программирования."
   ]
  },
  {
   "cell_type": "markdown",
   "metadata": {},
   "source": [
    "Различия с методом Ньютона\n",
    "\n",
    "Обычный метод Ньютона ищет корни уравнения f(x)=0\n",
    "\n",
    "Метод Симплекс-Ньютона ищет минимум функции f(x) и работает в многомерном пространстве"
   ]
  },
  {
   "cell_type": "markdown",
   "metadata": {},
   "source": [
    "**Алгоритм**:\n",
    "\n",
    "1) Находим градиент функции $\\nabla$ $f(X)$\n",
    "2) Строим матрицу Гессиана $H(X)$\n",
    "3) Решаем систему уравнений: $H * d = - \\nabla f$, где d -- направление спуска, дельта (X_1 - X_0)\n",
    "4) $X_{n+1}$ = $X_n$ + d\n",
    "5) Повторяем, пока изменение X не станет малым"
   ]
  },
  {
   "cell_type": "code",
   "execution_count": 54,
   "metadata": {},
   "outputs": [
    {
     "name": "stdout",
     "output_type": "stream",
     "text": [
      "Точка минимума: [2. 3.]\n"
     ]
    }
   ],
   "source": [
    "import numpy as np\n",
    "def f(X):\n",
    "    x, y = X\n",
    "    return x**2 + y**2 - 4*x - 6*y\n",
    "\n",
    "# вычисляем первые частные производные\n",
    "def grad_f(X):\n",
    "    x, y = X\n",
    "    return np.array([2*x - 4, 2*y - 6])\n",
    "\n",
    "# вычисляем вторые частные производные\n",
    "def hessian_f(x):\n",
    "    return np.array([[2, 0], [0, 2]])\n",
    "\n",
    "def newton_optimization(f, grad_f, hessian_f, X0):\n",
    "    X = np.array(X0, dtype = 'float') #X0 - начальная точка [x_0, y_0]\n",
    "\n",
    "    for _ in range(100):\n",
    "        grad = grad_f(X)\n",
    "        hessian = hessian_f(X)\n",
    "        delta_X = np.linalg.solve(hessian, -grad)  # Решаем систему H*d = -grad(f)\n",
    "\n",
    "        if np.linalg.norm(delta_X) < 0.00001: # задаем эпсилон\n",
    "            return X  # Нашли минимум\n",
    "        \n",
    "        X += delta_X\n",
    "    return X\n",
    "\n",
    "min_point = newton_optimization(f, grad_f, hessian_f, X0=[0, 0])\n",
    "print(\"Точка минимума:\", min_point)"
   ]
  }
 ],
 "metadata": {
  "kernelspec": {
   "display_name": ".venv",
   "language": "python",
   "name": "python3"
  },
  "language_info": {
   "codemirror_mode": {
    "name": "ipython",
    "version": 3
   },
   "file_extension": ".py",
   "mimetype": "text/x-python",
   "name": "python",
   "nbconvert_exporter": "python",
   "pygments_lexer": "ipython3",
   "version": "3.12.0"
  }
 },
 "nbformat": 4,
 "nbformat_minor": 2
}
