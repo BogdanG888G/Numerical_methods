{
 "cells": [
  {
   "cell_type": "markdown",
   "id": "11508fb6",
   "metadata": {},
   "source": [
    "# Решение СЛАУ с помощью метода простых итераций и метода Зейделя"
   ]
  },
  {
   "cell_type": "code",
   "execution_count": 10,
   "id": "3621b892",
   "metadata": {},
   "outputs": [],
   "source": [
    "import numpy as np"
   ]
  },
  {
   "cell_type": "markdown",
   "id": "4eb88f7d",
   "metadata": {},
   "source": [
    "## Приведение матрицы к диагонально-доминирующему виду"
   ]
  },
  {
   "cell_type": "code",
   "execution_count": 11,
   "id": "773b6dca",
   "metadata": {},
   "outputs": [],
   "source": [
    "def make_diagonally_dominant(A, b):\n",
    "    \"\"\"\n",
    "    Преобразует систему A * x = b к диагонально-доминирующему виду,\n",
    "    если это возможно. Возвращает новую матрицу A и вектор b.\n",
    "    \"\"\"\n",
    "    n = len(A)\n",
    "    new_A = np.zeros_like(A)\n",
    "    new_b = np.zeros_like(b)\n",
    "    remaining_rows = set(range(n))\n",
    "\n",
    "    for col in range(n):\n",
    "        max_row = -1\n",
    "        max_val = -np.inf\n",
    "        for row in remaining_rows:\n",
    "            if abs(A[row, col]) > max_val:\n",
    "                max_val = abs(A[row, col])\n",
    "                max_row = row\n",
    "\n",
    "        if max_row == -1:\n",
    "            raise ValueError(\"Невозможно привести к диагонально-доминирующему виду.\")\n",
    "        \n",
    "        new_A[col] = A[max_row]\n",
    "        new_b[col] = b[max_row]\n",
    "        remaining_rows.remove(max_row)\n",
    "\n",
    "    for i in range(n):\n",
    "        row_sum = np.sum(np.abs(new_A[i])) - np.abs(new_A[i, i])\n",
    "        if np.abs(new_A[i, i]) <= row_sum:\n",
    "            print(\"Внимание: не удалось достичь строгого диагонального преобладания.\")\n",
    "\n",
    "    return new_A, new_b\n"
   ]
  },
  {
   "cell_type": "markdown",
   "id": "067c774a",
   "metadata": {},
   "source": [
    "----"
   ]
  },
  {
   "cell_type": "markdown",
   "id": "41d91e60",
   "metadata": {},
   "source": [
    "## Метод простых итераций"
   ]
  },
  {
   "cell_type": "code",
   "execution_count": 12,
   "id": "ba9681a7",
   "metadata": {},
   "outputs": [],
   "source": [
    "def simple_iteration_method(A, b, max_iter=1000, eps=1e-10, ensure_dominance=True):\n",
    "    \"\"\"\n",
    "    Решает систему линейных уравнений методом простых итераций.\n",
    "    \"\"\"\n",
    "    if ensure_dominance:\n",
    "        A, b = make_diagonally_dominant(A, b)\n",
    "\n",
    "    n = len(b)\n",
    "    x = np.zeros(n)\n",
    "\n",
    "    for k in range(max_iter):\n",
    "        x_new = np.zeros(n)\n",
    "        for i in range(n):\n",
    "            s = np.dot(A[i, :], x) - A[i, i] * x[i]\n",
    "            x_new[i] = (b[i] - s) / A[i, i]\n",
    "\n",
    "        if np.linalg.norm(x_new - x) < eps:\n",
    "            return x_new, k + 1\n",
    "\n",
    "        x = x_new.copy()\n",
    "\n",
    "    print(\"Достигнуто максимальное число итераций.\")\n",
    "    return x, max_iter\n"
   ]
  },
  {
   "cell_type": "markdown",
   "id": "88f54284",
   "metadata": {},
   "source": [
    "---"
   ]
  },
  {
   "cell_type": "markdown",
   "id": "4f024a04",
   "metadata": {},
   "source": [
    "## Метод Зейделя"
   ]
  },
  {
   "cell_type": "code",
   "execution_count": 13,
   "id": "4d0666de",
   "metadata": {},
   "outputs": [],
   "source": [
    "def seidel_method(A, b, eps=1e-10, max_iter=1000, ensure_dominance=True):\n",
    "    \"\"\"\n",
    "    Решает систему линейных уравнений методом Зейделя.\n",
    "    \"\"\"\n",
    "    if ensure_dominance:\n",
    "        A, b = make_diagonally_dominant(A, b)\n",
    "\n",
    "    n = len(A)\n",
    "    x = np.zeros(n)\n",
    "\n",
    "    for iteration in range(max_iter):\n",
    "        x_prev = np.copy(x)\n",
    "\n",
    "        for i in range(n):\n",
    "            sigma = np.dot(A[i, :i], x[:i]) + np.dot(A[i, i + 1:], x[i + 1:])\n",
    "            x[i] = (b[i] - sigma) / A[i, i]\n",
    "\n",
    "        if np.linalg.norm(x - x_prev) < eps:\n",
    "            return x, iteration + 1\n",
    "\n",
    "    print(f\"Достигнуто максимальное число итераций ({max_iter}).\")\n",
    "    return x, max_iter\n"
   ]
  },
  {
   "cell_type": "markdown",
   "id": "37787d5b",
   "metadata": {},
   "source": [
    "---"
   ]
  },
  {
   "cell_type": "markdown",
   "id": "2ea38acb",
   "metadata": {},
   "source": [
    "## Пример использования"
   ]
  },
  {
   "cell_type": "code",
   "execution_count": 14,
   "id": "1a26da3d",
   "metadata": {},
   "outputs": [
    {
     "name": "stdout",
     "output_type": "stream",
     "text": [
      "Исходная матрица A:\n",
      "[[ 2  2 10]\n",
      " [10  1  1]\n",
      " [ 2 10  1]]\n",
      "Вектор правой части b: [14 12 13]\n",
      "\n",
      "Метод простых итераций:\n",
      "Решение: [1. 1. 1.]\n",
      "Количество итераций: 21\n",
      "Проверка: A*x - b = [5.75468562e-11 3.62518904e-11 4.56754634e-11]\n",
      "\n",
      "Метод Зейделя:\n",
      "Решение: [1. 1. 1.]\n",
      "Количество итераций: 9\n",
      "Проверка: A*x - b = [ 1.77635684e-15 -2.82440737e-13  1.83852933e-11]\n"
     ]
    }
   ],
   "source": [
    "A = np.array([\n",
    "    [2, 2, 10],\n",
    "    [10, 1, 1],\n",
    "    [2, 10, 1]\n",
    "])\n",
    "\n",
    "b = np.array([14, 12, 13])\n",
    "\n",
    "print(\"Исходная матрица A:\")\n",
    "print(A)\n",
    "print(\"Вектор правой части b:\", b)\n",
    "\n",
    "# Метод простых итераций\n",
    "x_iter, iter_count = simple_iteration_method(A, b)\n",
    "print(\"\\nМетод простых итераций:\")\n",
    "print(\"Решение:\", x_iter)\n",
    "print(\"Количество итераций:\", iter_count)\n",
    "print(\"Проверка: A*x - b =\", np.dot(A, x_iter) - b)\n",
    "\n",
    "# Метод Зейделя\n",
    "x_seidel, seidel_count = seidel_method(A, b)\n",
    "print(\"\\nМетод Зейделя:\")\n",
    "print(\"Решение:\", x_seidel)\n",
    "print(\"Количество итераций:\", seidel_count)\n",
    "print(\"Проверка: A*x - b =\", np.dot(A, x_seidel) - b)\n"
   ]
  }
 ],
 "metadata": {
  "kernelspec": {
   "display_name": ".venv",
   "language": "python",
   "name": "python3"
  },
  "language_info": {
   "codemirror_mode": {
    "name": "ipython",
    "version": 3
   },
   "file_extension": ".py",
   "mimetype": "text/x-python",
   "name": "python",
   "nbconvert_exporter": "python",
   "pygments_lexer": "ipython3",
   "version": "3.11.5"
  }
 },
 "nbformat": 4,
 "nbformat_minor": 5
}
