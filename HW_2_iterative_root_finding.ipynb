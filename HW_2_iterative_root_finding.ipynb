{
 "cells": [
  {
   "cell_type": "markdown",
   "metadata": {},
   "source": [
    "# Домашнее задание №2, итерационная природа решения уравнений"
   ]
  },
  {
   "cell_type": "code",
   "execution_count": 2,
   "metadata": {},
   "outputs": [],
   "source": [
    "import numpy as np\n",
    "\n",
    "def derivative(coefficients):\n",
    "    \"\"\"\n",
    "    Вычисляет производную полинома, заданного коэффициентами.\n",
    "    \"\"\"\n",
    "    return [coefficients[i] * i for i in range(1, len(coefficients))]\n",
    "\n",
    "def polynomial(x, coefficients):\n",
    "    \"\"\"\n",
    "    Вычисляет значение полинома в точке x.\n",
    "    \"\"\"\n",
    "    return sum(coefficients[i] * (x ** i) for i in range(len(coefficients)))\n",
    "\n",
    "def next_newton_step(x0, coefficients, c):\n",
    "    \"\"\"\n",
    "    Вычисляет следующее приближение методом Ньютона-Маклорена.\n",
    "    \"\"\"\n",
    "    return x0 - polynomial(x0, coefficients) / polynomial(x0, derivative(coefficients)) * c\n",
    "\n"
   ]
  },
  {
   "cell_type": "markdown",
   "metadata": {},
   "source": [
    "## Реализация метода Ньютона-Маклорена <br>\n",
    "Итерационный процесс: \n",
    "$$\n",
    "x_{n+1} = x_n - \\frac{f(x_n)}{f'(x_n)} \\cdot c\n",
    "$$"
   ]
  },
  {
   "cell_type": "code",
   "execution_count": 3,
   "metadata": {},
   "outputs": [],
   "source": [
    "def newton_method(x0, epsilon, coefficients, c=0.7, max_iter=10000):\n",
    "    for i in range(max_iter):\n",
    "        s = (next_newton_step(x0, coefficients, c) - x0) / (1 - (next_newton_step(x0, coefficients, c) - x0) / (x0 - next_newton_step(x0, coefficients, c)))\n",
    "        if abs(s) < epsilon:\n",
    "            print(f\"Корень найден: {x0}, количество итераций: {i}\")\n",
    "            return x0\n",
    "        x0 = next_newton_step(x0, coefficients, c)\n",
    "    raise ValueError(\"Достигнуто максимальное количество итераций. Корень не найден.\")\n"
   ]
  },
  {
   "cell_type": "markdown",
   "metadata": {},
   "source": [
    "## Реализация метода секущих <br> \n",
    "Итерационный процесс:\n",
    "    $$\n",
    "    x_{n+1} = x_n - f(x_n) \\frac{x_n - x_{n-1}}{f(x_n) - f(x_{n-1})}\n",
    "    $$"
   ]
  },
  {
   "cell_type": "code",
   "execution_count": 4,
   "metadata": {},
   "outputs": [],
   "source": [
    "\n",
    "def secant_method(x0, x1, epsilon, coefficients, max_iter=1000):\n",
    "    for i in range(max_iter):\n",
    "        f_x0, f_x1 = polynomial(x0, coefficients), polynomial(x1, coefficients)\n",
    "        if abs(f_x1) < epsilon:\n",
    "            print(f\"Корень найден: {x1}, количество итераций: {i}\")\n",
    "            return x1\n",
    "        x_n = x1 - f_x1 * (x1 - x0) / (f_x1 - f_x0)\n",
    "        x0, x1 = x1, x_n\n",
    "    raise ValueError(\"Достигнуто максимальное количество итераций. Корень не найден.\")"
   ]
  },
  {
   "cell_type": "markdown",
   "metadata": {},
   "source": [
    "## Реализация метода простых итераций<br>\n",
    "Итерационный процесс:\n",
    "$$\n",
    "x_{n+1} = g(x_n)\n",
    "$$,\n",
    "где функция $ g(x) = (x^2 + 6) / 5 $\n"
   ]
  },
  {
   "cell_type": "code",
   "execution_count": 5,
   "metadata": {},
   "outputs": [],
   "source": [
    "\n",
    "def iteration_method(x0, epsilon, max_iter):\n",
    "    \n",
    "    def g(x):\n",
    "        return (x ** 2 + 6) / 5\n",
    "    \n",
    "    for i in range(max_iter):\n",
    "        x_n = g(x0)\n",
    "        if abs(x_n - x0) < epsilon:\n",
    "            print(f\"Корень найден: {x_n}, количество итераций: {i}\")\n",
    "            return x_n\n",
    "        x0 = x_n\n",
    "    raise ValueError(\"Достигнуто максимальное количество итераций. Корень не найден.\")\n",
    "\n"
   ]
  },
  {
   "cell_type": "markdown",
   "metadata": {},
   "source": [
    "У нас есть квадратичная ф-ия вида $c + bx + ax^2$, мы можем подставить коэффициенты [a, b, c]\n",
    "\n",
    "* x0 (Начальное приближение для метода Ньютона и метода простых итераций):\n",
    "\n",
    "    Используется в newton_method и iteration_method как стартовая точка для поиска корня<br>\n",
    "    Выбирается на основе предварительного анализа графика функции или других приближенных методов\n",
    "\n",
    "* x1 (Дополнительная точка для метода секущих):\n",
    "\n",
    "    В secant_method метод использует две начальные точки x0 и x1 для построения первой секущей <br>x1 должно быть выбрано так, чтобы функция имела разные знаки в x0 и x1, что гарантирует нахождение корня\n",
    "\n",
    "* c (Дополнительный коэффициент для метода Ньютона-Маклорена):\n",
    "\n",
    "    Корректирует шаг изменения x в методе Ньютона<br>\n",
    "    Значение c = 0.7 уменьшает шаг, что иногда помогает избежать расходимости метода"
   ]
  },
  {
   "cell_type": "code",
   "execution_count": 6,
   "metadata": {},
   "outputs": [
    {
     "name": "stdout",
     "output_type": "stream",
     "text": [
      "Корень найден: 1.9999999979018426, количество итераций: 18\n",
      "1.9999999979018426\n",
      "Корень найден: 1.9999999999977134, количество итераций: 7\n",
      "1.9999999999977134\n",
      "Корень найден: 1.9999999962494173, количество итераций: 82\n",
      "1.9999999962494173\n"
     ]
    }
   ],
   "source": [
    "coefficients = [6, -5, 1]  # 6 - 5x + x^2\n",
    "x0 = 1\n",
    "x1 = 1.25\n",
    "epsilon = 1e-9 # Точность вычислений\n",
    "c = 0.7\n",
    "\n",
    "print(newton_method(x0, epsilon, coefficients, c))\n",
    "print(secant_method(x0, x1, epsilon, coefficients))\n",
    "print(iteration_method(x0, epsilon, max_iter=1000))\n"
   ]
  }
 ],
 "metadata": {
  "kernelspec": {
   "display_name": ".venv",
   "language": "python",
   "name": "python3"
  },
  "language_info": {
   "codemirror_mode": {
    "name": "ipython",
    "version": 3
   },
   "file_extension": ".py",
   "mimetype": "text/x-python",
   "name": "python",
   "nbconvert_exporter": "python",
   "pygments_lexer": "ipython3",
   "version": "3.12.0"
  }
 },
 "nbformat": 4,
 "nbformat_minor": 2
}
